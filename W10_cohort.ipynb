{
 "cells": [
  {
   "cell_type": "code",
   "execution_count": 4,
   "metadata": {},
   "outputs": [
    {
     "name": "stdout",
     "output_type": "stream",
     "text": [
      "matrix1:\n",
      " [[ 6  9  5  6  2  1  5  6 10  6  6 10  8  4  2  4  6  6  3  1  1  6 10  1\n",
      "   7  3  5  6  1  7  3  9  1 10 10  1  9  7  4 10  8  9  8  9  1  7  1  9\n",
      "   7 10]]\n",
      "matrix2:\n",
      " [[ 6  9  5  6  2  1  5  6 10  6]\n",
      " [ 6 10  8  4  2  4  6  6  3  1]\n",
      " [ 1  6 10  1  7  3  5  6  1  7]\n",
      " [ 3  9  1 10 10  1  9  7  4 10]\n",
      " [ 8  9  8  9  1  7  1  9  7 10]] \n",
      "\n",
      "1:  [6 6 1 3 8]\n",
      "2:  [ 6  9  5  6  2  1  5  6 10  6]\n",
      "3:\n",
      " [[ 6  9  5]\n",
      " [ 6 10  8]\n",
      " [ 1  6 10]]\n",
      "4: [3 9 1]\n",
      "4: <class 'numpy.ndarray'>\n",
      "5: [[3 9 1]]\n",
      "5: <class 'numpy.ndarray'>\n"
     ]
    }
   ],
   "source": [
    "import numpy as np\n",
    "import random\n",
    "\n",
    "nested_list = [random.randint(1,10) for i in range(50)]\n",
    "matrix1 = np.array([nested_list])\n",
    "print('matrix1:\\n', matrix1)\n",
    "\n",
    "matrix2 = matrix1.reshape(5,10)\n",
    "print('matrix2:\\n', matrix2, '\\n')\n",
    "\n",
    "print('1: ', matrix2[:,0])    # first column\n",
    "print('2: ', matrix2[0,:])    # first row\n",
    "print('3:\\n', matrix2[0:3,0:3])    # gives 3x3 matrix\n",
    "print('4:', matrix2[3,0:3])\n",
    "print('4:', type(matrix2[3,0:3]))\n",
    "print('5:', matrix2[3:4,0:3])\n",
    "print('5:', type(matrix2[3:4,0:3]))"
   ]
  },
  {
   "cell_type": "markdown",
   "metadata": {},
   "source": [
    "# Q1 Confusion Matrix\n",
    "Calculate accuracy, sensitivity and false positive rate.<br>\n",
    "<br>\n",
    "Accuracy = total correct predictions / total records <br>\n",
    "Sensitivity = total correct positive cases / total positive cases (aka recall )<br>\n",
    "False positive rate = total false positives / total negative cases(the actual negative cases that have been predicted to be positive)"
   ]
  },
  {
   "cell_type": "code",
   "execution_count": 14,
   "metadata": {},
   "outputs": [
    {
     "name": "stdout",
     "output_type": "stream",
     "text": [
      "{'confusion matrix': array([[3, 1],\n",
      "       [2, 2]]), 'total records': 8, 'accuracy': 0.625, 'sensitivity': '', 'false positive rate': 0.25, 'sensitivty': 0.5}\n"
     ]
    }
   ],
   "source": [
    "def get_metrics(actual, predicted, labels):\n",
    "    metrics = {'confusion matrix': '', 'total records':'','accuracy':'','sensitivity':'','false positive rate':''}\n",
    "        \n",
    "    g1,g2,g3,g4 = (0,0,0,0)\n",
    "    \n",
    "    for i,item in enumerate(actual):\n",
    "        if item == 'bird':\n",
    "            if predicted[i] == 'bird':\n",
    "                g1 += 1\n",
    "            elif predicted[i] == 'cat':\n",
    "                g2 += 1        \n",
    "        elif item == 'cat':\n",
    "            if predicted[i] == 'bird':\n",
    "                g3 += 1\n",
    "            elif predicted[i] == 'cat':\n",
    "                g4 += 1\n",
    "    if labels[1] == 'cat':\n",
    "        correct_posi = g4\n",
    "        total_posi = g3+g4\n",
    "        false_posi = g2\n",
    "        total_nega = g1+g2\n",
    "    elif labels[1] == 'bird':\n",
    "        correct_posi = g1\n",
    "        total_posi = g1+g2\n",
    "        false_posi = g3\n",
    "        total_nega = g3+g4\n",
    "    # print(g1,g2,g3,g4)\n",
    "    \n",
    "    conf_matrix = np.array([g1,g2,g3,g4])\n",
    "    metrics['confusion matrix'] = conf_matrix.reshape(2,2)\n",
    "    metrics['total records'] = len(actual)\n",
    "    metrics['accuracy'] = round((g1+g4)/len(actual),3)\n",
    "    metrics['sensitivty'] = round(correct_posi/total_posi,3)\n",
    "    metrics['false positive rate'] = round(false_posi/total_nega,3)\n",
    "    return metrics\n",
    "\n",
    "actual = [ 'cat' , 'cat' , 'cat' , 'cat' , 'bird' , 'bird' , 'bird' , 'bird' ]\n",
    "predicted = [ 'cat' , 'cat' , 'bird' , 'bird' , 'cat' , 'bird' , 'bird' , 'bird'\n",
    "]\n",
    "labels = [ 'bird' , 'cat' ]\n",
    "print(get_metrics(actual, predicted, labels) )"
   ]
  },
  {
   "cell_type": "markdown",
   "metadata": {},
   "source": [
    "# Q2 Five Number Summary"
   ]
  },
  {
   "cell_type": "code",
   "execution_count": 5,
   "metadata": {},
   "outputs": [
    {
     "name": "stdout",
     "output_type": "stream",
     "text": [
      "[[ 17.99  10.38 122.8 ]\n",
      " [ 20.57  17.77 132.9 ]\n",
      " [ 19.69  21.25 130.  ]\n",
      " ...\n",
      " [ 16.6   28.08 108.3 ]\n",
      " [ 20.6   29.33 140.1 ]\n",
      " [  7.76  24.54  47.92]]\n",
      "[{'maximum': 28.11, 'minimum': 6.981, 'median': 13.37, 'first quartile': 11.7, 'third quartile': 15.78}, {'maximum': 39.28, 'minimum': 9.71, 'median': 18.84, 'first quartile': 16.17, 'third quartile': 21.8}, {'maximum': 188.5, 'minimum': 43.79, 'median': 86.24, 'first quartile': 75.17, 'third quartile': 104.1}]\n"
     ]
    }
   ],
   "source": [
    "import numpy as np\n",
    "\n",
    "def five_number_summary(columns):\n",
    "    # takes in numpy array, returns list of dictionaries\n",
    "    ans = []\n",
    "    for i in range(columns.shape[1]):\n",
    "        col = columns[:,i]\n",
    "        dct = {'maximum': 0, 'minimum':0, 'median':0, 'first quartile': 0,'third quartile':0}\n",
    "        dct['maximum'] = np.max(col)\n",
    "        dct['minimum'] = np.min(col)\n",
    "        dct['median'] = np.median(col)\n",
    "        dct['first quartile'] = np.percentile(col,25)\n",
    "        dct['third quartile'] = np.percentile(col,75)\n",
    "        ans.append(dct)\n",
    "    return ans\n",
    "    \n",
    "from sklearn.datasets import load_breast_cancer\n",
    "bunchobject = load_breast_cancer()\n",
    "\n",
    "col_no = [0,1,2]\n",
    "columns = bunchobject.data[:,col_no]\n",
    "print(columns)\n",
    "print(five_number_summary(columns))    "
   ]
  },
  {
   "cell_type": "markdown",
   "metadata": {},
   "source": [
    "# Q5 Linear Regression"
   ]
  },
  {
   "cell_type": "code",
   "execution_count": 6,
   "metadata": {},
   "outputs": [],
   "source": [
    "import numpy as np\n",
    "import matplotlib.pyplot as plt\n",
    "from random import randint, random, gauss\n",
    "\n",
    "def display_scatter(x,y,xlabel='x',ylabel='y',tite_name = 'default'):\n",
    "    plt.scatter(x,y)\n",
    "    plt.xlabel(xlabel)\n",
    "    plt.ylabel(ylabel)\n",
    "    plt.show()\n"
   ]
  },
  {
   "cell_type": "code",
   "execution_count": 7,
   "metadata": {},
   "outputs": [
    {
     "data": {
      "image/png": "[encoded data removed]",
      "text/plain": [
       "<Figure size 432x288 with 1 Axes>"
      ]
     },
     "metadata": {
      "needs_background": "light"
     },
     "output_type": "display_data"
    },
    {
     "name": "stdout",
     "output_type": "stream",
     "text": [
      "{'coefficients': array([[97.89195962]]), 'intercept': array([-727.25054841]), 'mean squared error': 3255.243809070085, 'r2 score': 0.9727214570731438}\n"
     ]
    },
    {
     "data": {
      "image/png": "[encoded data removed]",
      "text/plain": [
       "<Figure size 432x288 with 1 Axes>"
      ]
     },
     "metadata": {
      "needs_background": "light"
     },
     "output_type": "display_data"
    }
   ],
   "source": [
    "def linear_regression(bunchobject, x_index, y_index, size, seed):\n",
    "    from sklearn.model_selection import train_test_split\n",
    "    x_train, x_test, y_train, y_test = train_test_split(bunchobject.data[:,[x_index] ], \\\n",
    "                                                    bunchobject.data[:,[y_index] ], \\\n",
    "                                                    test_size = size)\n",
    "    \n",
    "    from sklearn import linear_model \n",
    "    regr = linear_model.LinearRegression()    # create an object\n",
    "    regr.fit(x_train,y_train)                 # obtain a function for regr object\n",
    "    y_pred = regr.predict(x_test)\n",
    "    \n",
    "    from sklearn.metrics import mean_squared_error, r2_score\n",
    "    results = {'coefficients': 0, 'intercept': 0, 'mean squared error': 0, 'r2 score': 0}\n",
    "    results['coefficients'] = regr.coef_\n",
    "    results['intercept'] = regr.intercept_\n",
    "    results['mean squared error'] = mean_squared_error(y_pred, y_test)\n",
    "    results['r2 score'] = r2_score(y_pred, y_test)\n",
    "    \n",
    "    return x_train, y_train, x_test, y_pred, results\n",
    "\n",
    "def plot_linear_regression(x1,y1,x2,y2,x_label='',y_label=''):\n",
    "    plt.scatter(x1,y1, color = 'black')\n",
    "    plt.scatter(x2,y2, color = 'blue')\n",
    "    plt.xlabel(x_label)\n",
    "    plt.ylabel(y_label)\n",
    "    plt.show()\n",
    "    \n",
    "# test code\n",
    "from sklearn.datasets import load_breast_cancer\n",
    "bunchobject = load_breast_cancer()\n",
    "    \n",
    "x_index = 0\n",
    "y_index = 3\n",
    "x = bunchobject.data[:,[x_index] ]\n",
    "y = bunchobject.data[:,[y_index] ]\n",
    "# percentage_for_test = 0.4    # 40% of data used for test\n",
    "# seed = 2752\n",
    "\n",
    "x_label = bunchobject.feature_names[x_index]\n",
    "y_label = bunchobject.feature_names[y_index]\n",
    "\n",
    "# plot the original dataset\n",
    "display_scatter(x,y,x_label,y_label)\n",
    "x_train, y_train, x_test, y_pred, results = linear_regression(bunchobject, x_index, y_index, 0.4, 2752)\n",
    "print(results)\n",
    "plot_linear_regression(x,y,x_test,y_pred,x_label,y_label)"
   ]
  },
  {
   "cell_type": "code",
   "execution_count": null,
   "metadata": {},
   "outputs": [],
   "source": []
  },
  {
   "cell_type": "code",
   "execution_count": null,
   "metadata": {},
   "outputs": [],
   "source": []
  }
 ],
 "metadata": {
  "kernelspec": {
   "display_name": "Python 3",
   "language": "python",
   "name": "python3"
  },
  "language_info": {
   "codemirror_mode": {
    "name": "ipython",
    "version": 3
   },
   "file_extension": ".py",
   "mimetype": "text/x-python",
   "name": "python",
   "nbconvert_exporter": "python",
   "pygments_lexer": "ipython3",
   "version": "3.7.4"
  }
 },
 "nbformat": 4,
 "nbformat_minor": 2
}
