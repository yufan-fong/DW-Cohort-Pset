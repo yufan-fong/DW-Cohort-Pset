{
 "cells": [
  {
   "cell_type": "code",
   "execution_count": 1,
   "metadata": {},
   "outputs": [],
   "source": [
    "import numpy as np\n",
    "from random import randint, random\n",
    "\n",
    "import matplotlib.pyplot as plt\n",
    "\n",
    "from sklearn import linear_model \n",
    "from sklearn.model_selection import train_test_split\n",
    "from sklearn.metrics import mean_squared_error, r2_score\n",
    "from sklearn import neighbors\n",
    "\n",
    "from sklearn.datasets import load_breast_cancer    # data source"
   ]
  },
  {
   "cell_type": "code",
   "execution_count": 2,
   "metadata": {},
   "outputs": [
    {
     "name": "stdout",
     "output_type": "stream",
     "text": [
      "matrix1:\n",
      " [[ 8  1  7  5  9  7  8  2  6  5 10  9  3  9  4  5  2  8  3  9  8  9  6  2\n",
      "   7  8  3  2  6  3  7  7  4  4  2  8  3  6  3  4 10  2  4  5  2  5  6  1\n",
      "  10  9]]\n",
      "matrix2:\n",
      " [[ 8  1  7  5  9  7  8  2  6  5]\n",
      " [10  9  3  9  4  5  2  8  3  9]\n",
      " [ 8  9  6  2  7  8  3  2  6  3]\n",
      " [ 7  7  4  4  2  8  3  6  3  4]\n",
      " [10  2  4  5  2  5  6  1 10  9]] \n",
      "\n",
      "1:  [[ 8]\n",
      " [10]\n",
      " [ 8]\n",
      " [ 7]\n",
      " [10]]\n",
      "2:  [ 8 10  8  7 10]\n",
      "3:\n",
      " [[ 8  1  7]\n",
      " [10  9  3]\n",
      " [ 8  9  6]]\n",
      "4: [7 7 4]\n",
      "4: <class 'numpy.ndarray'>\n",
      "4: (3,)\n",
      "5: [[7 7 4]]\n",
      "5: <class 'numpy.ndarray'>\n",
      "5: (1, 3)\n"
     ]
    }
   ],
   "source": [
    "# List comprehension\n",
    "nested_list = [randint(1,10) for i in range(50)]\n",
    "matrix1 = np.array([nested_list])\n",
    "print('matrix1:\\n', matrix1)\n",
    "\n",
    "matrix2 = matrix1.reshape(5,10)\n",
    "print('matrix2:\\n', matrix2, '\\n')\n",
    "\n",
    "print('1: ', matrix2[:,[0]])    # first column\n",
    "print('2: ', matrix2[:,0])    # first row\n",
    "print('3:\\n', matrix2[0:3,0:3])    # gives 3x3 matrix\n",
    "print('4:', matrix2[3,0:3])\n",
    "print('4:', type(matrix2[3,0:3]))\n",
    "print('4:', matrix2[3,0:3].shape)\n",
    "print('5:', matrix2[3:4,0:3])\n",
    "print('5:', type(matrix2[3:4,0:3]))\n",
    "print('5:', matrix2[3:4,0:3].shape)"
   ]
  },
  {
   "cell_type": "markdown",
   "metadata": {},
   "source": [
    "# Q1 Confusion Matrix\n",
    "Calculate accuracy, sensitivity and false positive rate.<br>\n",
    "<br>\n",
    "Accuracy = total correct predictions / total records <br>\n",
    "Sensitivity = total correct positive cases / total positive cases (aka recall )<br>\n",
    "False positive rate = total false positives / total negative cases(the actual negative cases that have been predicted to be positive)"
   ]
  },
  {
   "cell_type": "code",
   "execution_count": 3,
   "metadata": {},
   "outputs": [
    {
     "name": "stdout",
     "output_type": "stream",
     "text": [
      "{'confusion matrix': array([[3, 1],\n",
      "       [2, 2]]), 'total records': 8, 'accuracy': 0.625, 'sensitivity': 0.5, 'false positive rate': 0.25}\n"
     ]
    }
   ],
   "source": [
    "def get_metrics(actual, predicted, labels):\n",
    "    metrics = {'confusion matrix': '', 'total records':'','accuracy':'','sensitivity':'','false positive rate':''}\n",
    "    positive = labels[1]\n",
    "    negative = labels[0]\n",
    "        \n",
    "    g1,g2,g3,g4 = (0,0,0,0)\n",
    "    \n",
    "    for i,item in enumerate(actual):\n",
    "        if item == negative:\n",
    "            if predicted[i] == negative:\n",
    "                g1 += 1\n",
    "            elif predicted[i] == positive:\n",
    "                g2 += 1\n",
    "            \n",
    "        elif item == positive:\n",
    "            # actual positives\n",
    "            if predicted[i] == negative:\n",
    "                g3 += 1\n",
    "            elif predicted[i] == positive:\n",
    "                g4 += 1     \n",
    "    correct_pred = g1 + g4\n",
    "    total_posi = g3 + g4          # actual\n",
    "    total_nega = g1 + g2          # actual\n",
    "    \n",
    "    # print(g1,g2,g3,g4)\n",
    "    \n",
    "    conf_matrix = np.array([g1,g2,g3,g4])\n",
    "    metrics['confusion matrix'] = conf_matrix.reshape(2,2)\n",
    "    metrics['total records'] = len(actual)\n",
    "    metrics['accuracy'] = round((correct_pred)/len(actual),3)\n",
    "    metrics['sensitivity'] = round(g4/total_posi,3)\n",
    "    metrics['false positive rate'] = round(g2/total_nega,3)\n",
    "    return metrics\n",
    "\n",
    "actual = [ 'cat' , 'cat' , 'cat' , 'cat' , 'bird' , 'bird' , 'bird' , 'bird' ]\n",
    "predicted = [ 'cat' , 'cat' , 'bird' , 'bird' , 'cat' , 'bird' , 'bird' , 'bird']\n",
    "labels = [ 'bird' , 'cat' ]\n",
    "\n",
    "print(get_metrics(actual, predicted, labels) )"
   ]
  },
  {
   "cell_type": "markdown",
   "metadata": {},
   "source": [
    "# Q2 Five Number Summary"
   ]
  },
  {
   "cell_type": "code",
   "execution_count": 4,
   "metadata": {},
   "outputs": [
    {
     "name": "stdout",
     "output_type": "stream",
     "text": [
      "[[ 17.99  10.38 122.8 ]\n",
      " [ 20.57  17.77 132.9 ]\n",
      " [ 19.69  21.25 130.  ]\n",
      " ...\n",
      " [ 16.6   28.08 108.3 ]\n",
      " [ 20.6   29.33 140.1 ]\n",
      " [  7.76  24.54  47.92]]\n",
      "(569, 3)\n",
      "[{'maximum': 28.11, 'minimum': 6.981, 'median': 13.37, 'first quartile': 11.7, 'third quartile': 15.78}, {'maximum': 39.28, 'minimum': 9.71, 'median': 18.84, 'first quartile': 16.17, 'third quartile': 21.8}, {'maximum': 188.5, 'minimum': 43.79, 'median': 86.24, 'first quartile': 75.17, 'third quartile': 104.1}]\n"
     ]
    }
   ],
   "source": [
    "def five_number_summary(columns):\n",
    "    # takes in numpy array, returns list of dictionaries\n",
    "    \n",
    "    print(columns.shape)\n",
    "    if len(columns.shape) == 1:\n",
    "        return None\n",
    "    \n",
    "    ans = []\n",
    "    for i in range(columns.shape[1]):\n",
    "        col = columns[:,i]\n",
    "        dct = {'maximum': 0, 'minimum':0, 'median':0, 'first quartile': 0,'third quartile':0}\n",
    "        dct['maximum'] = np.max(col)\n",
    "        dct['minimum'] = np.min(col)\n",
    "        dct['median'] = np.median(col)\n",
    "        dct['first quartile'] = np.percentile(col,25)\n",
    "        dct['third quartile'] = np.percentile(col,75)\n",
    "        ans.append(dct)\n",
    "    return ans\n",
    "    \n",
    "# test case 1\n",
    "from sklearn.datasets import load_breast_cancer\n",
    "bunchobject = load_breast_cancer()\n",
    "\n",
    "col_no1 = [0,1,2]\n",
    "columns = bunchobject.data[:,col_no1]\n",
    "print(columns)\n",
    "print(five_number_summary(columns))    "
   ]
  },
  {
   "cell_type": "markdown",
   "metadata": {},
   "source": [
    "# Q3 MinMax Normalisation"
   ]
  },
  {
   "cell_type": "code",
   "execution_count": 5,
   "metadata": {},
   "outputs": [
    {
     "name": "stdout",
     "output_type": "stream",
     "text": [
      "(569, 1)\n",
      "[{'maximum': 1.0, 'minimum': 0.0, 'median': 0.30875887724044637, 'first quartile': 0.21846466012850865, 'third quartile': 0.40886033141697664}]\n"
     ]
    }
   ],
   "source": [
    "def normalize_minmax(data):\n",
    "    # data should be a 2D-numpy array\n",
    "    size = data.shape\n",
    "    if len(size) == 1:\n",
    "        return None\n",
    "    total_columns = size[1]\n",
    "    \n",
    "    for i in range(total_columns):       # for each column in data\n",
    "        maximum = np.max( data[:, i])    # maximum of the current column\n",
    "        minimum = np.min( data[:, i])    # minimuim of the current column\n",
    "        denom = maximum - minimum\n",
    "        data[:, i] = (data[:, i] - minimum)/denom\n",
    "    return data\n",
    "        \n",
    "# test case\n",
    "first_column = bunchobject.data[:,[ 1 ]]\n",
    "first_column_norm = normalize_minmax(first_column)\n",
    "print(five_number_summary(first_column_norm))"
   ]
  },
  {
   "cell_type": "markdown",
   "metadata": {},
   "source": [
    "# Q4 k-NN Model"
   ]
  },
  {
   "cell_type": "code",
   "execution_count": 6,
   "metadata": {},
   "outputs": [
    {
     "data": {
      "image/png": "[encoded data removed]",
      "text/plain": [
       "<Figure size 432x288 with 1 Axes>"
      ]
     },
     "metadata": {
      "needs_background": "light"
     },
     "output_type": "display_data"
    }
   ],
   "source": [
    "def display_bar_chart (positions, counts, names, title_name= 'default' ):\n",
    "    \n",
    "    plt.title(title_name)\n",
    "    plt.bar(positions, counts, align='center')\n",
    "    plt.xticks(positions, names)\n",
    "    plt.show()\n",
    "\n",
    "from sklearn.datasets import load_breast_cancer\n",
    "bunchobject = load_breast_cancer()\n",
    "\n",
    "unique, counts = np.unique(bunchobject.target, return_counts = True )\n",
    "display_bar_chart(unique, counts, bunchobject.target_names)"
   ]
  },
  {
   "cell_type": "code",
   "execution_count": 7,
   "metadata": {},
   "outputs": [
    {
     "name": "stdout",
     "output_type": "stream",
     "text": [
      "{'confusion matrix': array([[141,   5],\n",
      "       [  9,  73]]), 'total records': 228, 'accuracy': 0.939, 'sensitivity': 0.89, 'false positive rate': 0.034}\n"
     ]
    }
   ],
   "source": [
    "def knn_classifier(bunchobject, feature_list, size, seed, k):\n",
    "    data = bunchobject.data[:, feature_list]\n",
    "    target = bunchobject.target\n",
    "    \n",
    "    # normalize each feature using min/max normalisation\n",
    "    # custom function\n",
    "    data = normalize_minmax(data)\n",
    "    \n",
    "    # split data set\n",
    "    # from sklearn.model_selection import train_test_split\n",
    "    data_train, data_test, target_train, target_test = train_test_split(data,\n",
    "                                                                        target,\n",
    "                                                                        test_size = size,\n",
    "                                                                        random_state = seed)\n",
    "    \n",
    "    # create k-NN classifier object\n",
    "    # from sklearn import  neighbors\n",
    "    clf = neighbors.KNeighborsClassifier(k)\n",
    "    clf.fit(data_train, target_train)\n",
    "    target_predicted = clf.predict(data_test)\n",
    "    \n",
    "    # for breastcancer data, 0 >> benign, 1 >> malignant\n",
    "    # custom function\n",
    "    results = get_metrics(target_test, target_predicted,[1,0])\n",
    "    \n",
    "    return results\n",
    "    \n",
    "feature_list = range(20) #features from column 0 to 19\n",
    "results = knn_classifier(bunchobject, feature_list, 0.40 , 2752 , 3 )\n",
    "print(results)"
   ]
  },
  {
   "cell_type": "markdown",
   "metadata": {},
   "source": [
    "# Q5 Linear Regression"
   ]
  },
  {
   "cell_type": "code",
   "execution_count": 8,
   "metadata": {},
   "outputs": [],
   "source": [
    "def display_scatter(x,y,xlabel='x',ylabel='y',tite_name = 'default'):\n",
    "    plt.scatter(x,y)\n",
    "    plt.xlabel(xlabel)\n",
    "    plt.ylabel(ylabel)\n",
    "    plt.show()\n"
   ]
  },
  {
   "cell_type": "code",
   "execution_count": 9,
   "metadata": {},
   "outputs": [
    {
     "data": {
      "image/png": "[encoded data removed]",
      "text/plain": [
       "<Figure size 432x288 with 1 Axes>"
      ]
     },
     "metadata": {
      "needs_background": "light"
     },
     "output_type": "display_data"
    },
    {
     "name": "stdout",
     "output_type": "stream",
     "text": [
      "{'coefficients': array([[100.16755386]]), 'intercept': array([-760.52027342]), 'mean squared error': 2631.2988797244757, 'r2 score': 0.9777253933521517}\n"
     ]
    },
    {
     "data": {
      "image/png": "[encoded data removed]",
      "text/plain": [
       "<Figure size 432x288 with 1 Axes>"
      ]
     },
     "metadata": {
      "needs_background": "light"
     },
     "output_type": "display_data"
    }
   ],
   "source": [
    "def linear_regression(bunchobject, x_index, y_index, size, seed):\n",
    "    \n",
    "    x = bunchobject.data[:,[x_index] ]\n",
    "    y = bunchobject.data[:,[y_index] ]\n",
    "\n",
    "    # from sklearn.model_selection import train_test_split\n",
    "    x_train, x_test, y_train, y_test = train_test_split(x, y,\n",
    "                                                    test_size = size,\n",
    "                                                    random_state = seed)\n",
    "    \n",
    "    # from sklearn import linear_model \n",
    "    regr = linear_model.LinearRegression()    # create an object\n",
    "    regr.fit(x_train,y_train)                 # obtain a function for regr object\n",
    "    y_pred = regr.predict(x_test)\n",
    "    \n",
    "    # from sklearn.metrics import mean_squared_error, r2_score\n",
    "    results = {'coefficients': 0, 'intercept': 0, 'mean squared error': 0, 'r2 score': 0}\n",
    "    results['coefficients'] = regr.coef_\n",
    "    results['intercept'] = regr.intercept_\n",
    "    results['mean squared error'] = mean_squared_error(y_pred, y_test)\n",
    "    results['r2 score'] = r2_score(y_test, y_pred)\n",
    "    \n",
    "    return x_train, y_train, x_test, y_pred, results\n",
    "\n",
    "def plot_linear_regression(x1,y1,x2,y2,x_label='',y_label=''):\n",
    "    plt.scatter(x1,y1, color = 'black')\n",
    "    plt.scatter(x2,y2, color = 'blue')\n",
    "    plt.xlabel(x_label)\n",
    "    plt.ylabel(y_label)\n",
    "    plt.show()\n",
    "    \n",
    "# test code\n",
    "from sklearn.datasets import load_breast_cancer\n",
    "bunchobject = load_breast_cancer()\n",
    "    \n",
    "x_index = 0\n",
    "y_index = 3\n",
    "\n",
    "x = bunchobject.data[:,[x_index] ]\n",
    "y = bunchobject.data[:,[y_index] ]\n",
    "\n",
    "x_label = bunchobject.feature_names[x_index]\n",
    "y_label = bunchobject.feature_names[y_index]\n",
    "\n",
    "# plot the original dataset\n",
    "display_scatter(x,y,x_label,y_label)\n",
    "x_train, y_train, x_test, y_pred, results = linear_regression(bunchobject, x_index, y_index, 0.4, 2752)\n",
    "print(results)\n",
    "plot_linear_regression(x,y,x_test,y_pred,x_label,y_label)"
   ]
  },
  {
   "cell_type": "markdown",
   "metadata": {},
   "source": [
    "# Q6 Multiple Linear Regression\n",
    "Second Order Model, Polynomial Regression <br>\n",
    "$y$ = $a_{0}$$x^{2}$ + $a_{1}$$x$ + $a_{2}$"
   ]
  },
  {
   "cell_type": "code",
   "execution_count": 10,
   "metadata": {},
   "outputs": [
    {
     "name": "stdout",
     "output_type": "stream",
     "text": [
      "{'coefficients': array([[-1.28141031e+02,  1.57502508e+01, -5.29186793e-01,\n",
      "         7.97220165e-03]]), 'intercept': array([459.72265999]), 'mean squared error': 145.64415629851655, 'r2 score': 0.9987670855952149}\n"
     ]
    },
    {
     "data": {
      "image/png": "[encoded data removed]",
      "text/plain": [
       "<Figure size 432x288 with 1 Axes>"
      ]
     },
     "metadata": {
      "needs_background": "light"
     },
     "output_type": "display_data"
    }
   ],
   "source": [
    "def multiple_linear_regression(bunchobject, x_index, y_index, order, size, seed):\n",
    "         \n",
    "    x = bunchobject.data[:,[x_index] ]\n",
    "    y = bunchobject.data[:,[y_index] ]\n",
    "    \n",
    "    from sklearn.preprocessing import PolynomialFeatures\n",
    "    poly = PolynomialFeatures(order, include_bias = False)\n",
    "    x_matrix = poly.fit_transform(x)         # creates a numpy array for the many rows of  1  x  x^2\n",
    "\n",
    "    # from sklearn.model_selection import train_test_split\n",
    "    x_matrix_train, x_matrix_test, y_train, y_test = train_test_split(x_matrix, y,\n",
    "                                                    test_size = size,\n",
    "                                                    random_state = seed)\n",
    "    \n",
    "    # from sklearn import linear_model \n",
    "    regr = linear_model.LinearRegression()    # create an object\n",
    "    regr.fit(x_matrix_train,y_train)                 # obtain a function for regr object\n",
    "    y_pred = regr.predict(x_matrix_test)\n",
    "    \n",
    "    # from sklearn.metrics import mean_squared_error, r2_score\n",
    "    results = {'coefficients': 0, 'intercept': 0, 'mean squared error': 0, 'r2 score': 0}\n",
    "    results['coefficients'] = regr.coef_\n",
    "    results['intercept'] = regr.intercept_\n",
    "    results['mean squared error'] = mean_squared_error(y_pred, y_test)\n",
    "    results['r2 score'] = r2_score(y_test, y_pred)\n",
    "    \n",
    "    return x_matrix_train[:,[0]], y_train, x_test[:,[0]], y_pred, results\n",
    "\n",
    "# Test Script\n",
    "x_train, y_train, x_test, y_pred, results = multiple_linear_regression(bunchobject, 0 , 3 , 4 , 0.4 , 2752 )\n",
    "print(results)\n",
    "plot_linear_regression(x_train, y_train, x_test, y_pred, bunchobject.feature_names[0], bunchobject.feature_names[3])"
   ]
  },
  {
   "cell_type": "markdown",
   "metadata": {},
   "source": [
    "# Q7 k-Nearest Neighbours (full)\n",
    "Determine the best k value for highest accuracy <br>\n",
    "Data: training set, validation set (to choose best k-value), testing set <br>"
   ]
  },
  {
   "cell_type": "code",
   "execution_count": 11,
   "metadata": {},
   "outputs": [
    {
     "name": "stdout",
     "output_type": "stream",
     "text": [
      "{'best k': 4, 'validation set': {'confusion matrix': array([[71,  2],\n",
      "       [ 2, 39]]), 'total records': 114, 'accuracy': 0.965, 'sensitivity': 0.951, 'false positive rate': 0.027}, 'test set': {'confusion matrix': array([[69,  4],\n",
      "       [ 1, 40]]), 'total records': 114, 'accuracy': 0.956, 'sensitivity': 0.976, 'false positive rate': 0.055}}\n"
     ]
    }
   ],
   "source": [
    "def knn_classifier_full(bunchobject, feature_list, size, seed):\n",
    "    data = bunchobject.data[:, feature_list]\n",
    "    target = bunchobject.target\n",
    "    \n",
    "    data = normalize_minmax(data)\n",
    "    \n",
    "    # train: 60%, validation: 20%, test: 20%\n",
    "    data_train, data_part2, target_train, target_part2 = train_test_split(data, \n",
    "                                                                          target, \n",
    "                                                                          test_size = size, \n",
    "                                                                          random_state = seed)\n",
    "    # split part2 into validation & test\n",
    "    data_validation, data_test, target_validation, target_test = train_test_split(data_part2, \n",
    "                                                                                  target_part2, \n",
    "                                                                                  test_size = 0.5, \n",
    "                                                                                  random_state = seed)    \n",
    "    acc = []\n",
    "    for k in range(1,21):\n",
    "        clf = neighbors.KNeighborsClassifier(k)\n",
    "        clf.fit(data_train, target_train)\n",
    "        target_predicted = clf.predict(data_validation)\n",
    "        results = get_metrics(target_validation, target_predicted,[1,0])\n",
    "        acc.append(results['accuracy'])\n",
    "        \n",
    "    max_acc = max(acc)\n",
    "    best_k = acc.index(max_acc) + 1       # get k value with highest accuracy\n",
    "    \n",
    "    out_results = {}\n",
    "    clf = neighbors.KNeighborsClassifier(best_k)\n",
    "    clf.fit(data_train, target_train)\n",
    "    target_predicted1 = clf.predict(data_validation)\n",
    "    validation_metrics = get_metrics(target_validation, target_predicted1,[1,0])\n",
    "    \n",
    "    target_predicted2 = clf.predict(data_test)\n",
    "    test_metrics = get_metrics(target_test, target_predicted2, [1,0])\n",
    "    \n",
    "    out_results = {'best k': best_k, 'validation set': validation_metrics, 'test set': test_metrics}\n",
    "    \n",
    "    return out_results\n",
    "    \n",
    "feature_list = range(20) #features from column 0 to 19\n",
    "results = knn_classifier_full(bunchobject, feature_list, 0.40 , 2752)\n",
    "print(results)"
   ]
  }
 ],
 "metadata": {
  "kernelspec": {
   "display_name": "Python 3",
   "language": "python",
   "name": "python3"
  },
  "language_info": {
   "codemirror_mode": {
    "name": "ipython",
    "version": 3
   },
   "file_extension": ".py",
   "mimetype": "text/x-python",
   "name": "python",
   "nbconvert_exporter": "python",
   "pygments_lexer": "ipython3",
   "version": "3.7.4"
  }
 },
 "nbformat": 4,
 "nbformat_minor": 2
}
